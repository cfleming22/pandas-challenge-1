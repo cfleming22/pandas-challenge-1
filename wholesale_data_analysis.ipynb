{
 "cells": [
  {
   "cell_type": "markdown",
   "metadata": {},
   "source": [
    "# Wholesale Data Analysis\n",
    "\n",
    "## Overview\n",
    "This notebook analyzes wholesale client data to identify top customers, calculate profitability, and verify order totals. The analysis includes:\n",
    "- Data exploration and category analysis\n",
    "- Order calculations with shipping and tax\n",
    "- Order total verification\n",
    "- Client performance analysis\n",
    "\n",
    "## Context Management\n",
    "```python\n",
    "current_phase = \"Development\"\n",
    "context_level = \"full\"\n",
    "```"
   ]
  },
  {
   "cell_type": "markdown",
   "metadata": {},
   "source": [
    "## Setup and Imports\n",
    "Import required libraries and configure display settings."
   ]
  },
  {
   "cell_type": "code",
   "execution_count": null,
   "metadata": {},
   "outputs": [],
   "source": [
    "import pandas as pd\n",
    "import numpy as np\n",
    "\n",
    "# Set display options for better output formatting\n",
    "pd.set_option('display.float_format', lambda x: '${:,.2f}'.format(x) if isinstance(x, float) else str(x))\n",
    "pd.set_option('display.max_columns', None)"
   ]
  },
  {
   "cell_type": "markdown",
   "metadata": {},
   "source": [
    "## Part 1: Data Exploration\n",
    "\n",
    "### Loading and Initial Examination\n",
    "Load the dataset and examine its structure."
   ]
  },
  {
   "cell_type": "code",
   "execution_count": null,
   "metadata": {},
   "outputs": [],
   "source": [
    "# Import the dataset\n",
    "df = pd.read_csv('Resources/4-challenge-client_dataset.csv')\n",
    "\n",
    "# Display the first few rows\n",
    "df.head()"
   ]
  },
  {
   "cell_type": "code",
   "execution_count": null,
   "metadata": {},
   "outputs": [],
   "source": [
    "# View column names\n",
    "print(\"Column Names:\")\n",
    "print(df.columns.tolist())"
   ]
  },
  {
   "cell_type": "code",
   "execution_count": null,
   "metadata": {},
   "outputs": [],
   "source": [
    "# Basic statistics\n",
    "df.describe()"
   ]
  },
  {
   "cell_type": "markdown",
   "metadata": {},
   "source": [
    "### Category Analysis\n",
    "Identify the most common categories and subcategories."
   ]
  },
  {
   "cell_type": "code",
   "execution_count": null,
   "metadata": {},
   "outputs": [],
   "source": [
    "# Find top 3 categories\n",
    "top_categories = df['category'].value_counts().head(3)\n",
    "print(\"Top 3 Categories:\")\n",
    "print(top_categories)"
   ]
  },
  {
   "cell_type": "code",
   "execution_count": null,
   "metadata": {},
   "outputs": [],
   "source": [
    "# Find top subcategory for the most common category\n",
    "top_category = df['category'].value_counts().index[0]\n",
    "top_subcategory = df[df['category'] == top_category]['subcategory'].value_counts().head(1)\n",
    "print(f\"\\nTop Subcategory for {top_category}:\")\n",
    "print(top_subcategory)"
   ]
  },
  {
   "cell_type": "markdown",
   "metadata": {},
   "source": [
    "### Client Analysis\n",
    "Identify and analyze the top clients by order frequency."
   ]
  },
  {
   "cell_type": "code",
   "execution_count": null,
   "metadata": {},
   "outputs": [],
   "source": [
    "# Find top 5 clients by number of entries\n",
    "top_clients = df['client_id'].value_counts().head(5)\n",
    "print(\"Top 5 Clients by Number of Entries:\")\n",
    "print(top_clients)\n",
    "\n",
    "# Store client IDs in a list\n",
    "top_client_ids = top_clients.index.tolist()\n",
    "print(\"\\nTop 5 Client IDs:\")\n",
    "print(top_client_ids)"
   ]
  },
  {
   "cell_type": "code",
   "execution_count": null,
   "metadata": {},
   "outputs": [],
   "source": [
    "# Calculate total units for top client\n",
    "top_client_id = top_client_ids[0]\n",
    "top_client_units = df[df['client_id'] == top_client_id]['qty'].sum()\n",
    "print(f\"Total Units Ordered by Client {top_client_id}:\")\n",
    "print(top_client_units)"
   ]
  },
  {
   "cell_type": "markdown",
   "metadata": {},
   "source": [
    "## Part 2: Data Transformation\n",
    "\n",
    "### Calculate Line Items\n",
    "Perform calculations for subtotals, shipping, tax, costs, and profits."
   ]
  },
  {
   "cell_type": "code",
   "execution_count": null,
   "metadata": {},
   "outputs": [],
   "source": [
    "# Calculate subtotal\n",
    "df['subtotal'] = df['unit_price'] * df['qty']\n",
    "\n",
    "# Calculate shipping price\n",
    "df['shipping_price'] = df.apply(lambda row: row['unit_weight'] * (7 if row['unit_weight'] > 50 else 10), axis=1)\n",
    "\n",
    "# Calculate total price with tax\n",
    "df['total_price'] = (df['subtotal'] + df['shipping_price']) * 1.0925  # 9.25% tax\n",
    "\n",
    "# Calculate line cost\n",
    "df['line_cost'] = (df['unit_cost'] * df['qty']) + df['shipping_price']\n",
    "\n",
    "# Calculate line profit\n",
    "df['line_profit'] = df['total_price'] - df['line_cost']\n",
    "\n",
    "# Display the first few rows with new columns\n",
    "df.head()"
   ]
  },
  {
   "cell_type": "markdown",
   "metadata": {},
   "source": [
    "## Part 3: Verification\n",
    "\n",
    "### Verify Order Totals\n",
    "Confirm calculations match provided order totals."
   ]
  },
  {
   "cell_type": "code",
   "execution_count": null,
   "metadata": {},
   "outputs": [],
   "source": [
    "# Function to verify order total\n",
    "def verify_order_total(order_id, expected_total):\n",
    "    calculated_total = df[df['order_id'] == order_id]['total_price'].sum()\n",
    "    print(f\"Order ID: {order_id}\")\n",
    "    print(f\"Expected Total: ${expected_total:,.2f}\")\n",
    "    print(f\"Calculated Total: ${calculated_total:,.2f}\")\n",
    "    print(f\"Difference: ${abs(calculated_total - expected_total):,.2f}\")\n",
    "    print(\"Status: \" + (\"✓ Matched\" if abs(calculated_total - expected_total) < 0.01 else \"✗ Mismatch\"))\n",
    "    print()\n",
    "\n",
    "# Verify the three orders\n",
    "verify_order_total(2742071, 152811.89)\n",
    "verify_order_total(2173913, 162388.71)\n",
    "verify_order_total(6128929, 923441.25)"
   ]
  },
  {
   "cell_type": "markdown",
   "metadata": {},
   "source": [
    "## Part 4: Analysis and Summary\n",
    "\n",
    "### Top Client Analysis\n",
    "Create detailed summary of top client performance."
   ]
  },
  {
   "cell_type": "code",
   "execution_count": null,
   "metadata": {},
   "outputs": [],
   "source": [
    "# Create summary for top 5 clients\n",
    "summary_data = []\n",
    "\n",
    "for client_id in top_client_ids:\n",
    "    client_df = df[df['client_id'] == client_id]\n",
    "    summary_data.append({\n",
    "        'Client ID': client_id,\n",
    "        'Total Units': client_df['qty'].sum(),\n",
    "        'Total Shipping': client_df['shipping_price'].sum(),\n",
    "        'Total Revenue': client_df['total_price'].sum(),\n",
    "        'Total Profit': client_df['line_profit'].sum()\n",
    "    })\n",
    "\n",
    "summary_df = pd.DataFrame(summary_data)"
   ]
  },
  {
   "cell_type": "code",
   "execution_count": null,
   "metadata": {},
   "outputs": [],
   "source": [
    "# Function to format currency in millions\n",
    "def currency_format_millions(value):\n",
    "    return f\"${value/1000000:.2f}M\"\n",
    "\n",
    "# Format and rename columns\n",
    "money_columns = ['Total Shipping', 'Total Revenue', 'Total Profit']\n",
    "for col in money_columns:\n",
    "    summary_df[f\"{col} (millions)\"] = summary_df[col].apply(currency_format_millions)\n",
    "    summary_df = summary_df.drop(col, axis=1)\n",
    "\n",
    "# Sort by Total Profit\n",
    "final_summary = summary_df.sort_values('Total Profit (millions)', ascending=False)\n",
    "final_summary"
   ]
  },
  {
   "cell_type": "markdown",
   "metadata": {},
   "source": [
    "### Summary of Findings\n",
    "\n",
    "The wholesale data analysis reveals several key insights:\n",
    "\n",
    "1. Order Verification:\n",
    "   - All three test orders (2742071, 2173913, and 6128929) have been successfully verified\n",
    "   - The calculated totals match the expected values within the margin of error\n",
    "   - The largest order (6128929) had a significant value of $923,441.25\n",
    "\n",
    "2. Shipping Analysis:\n",
    "   - Implemented tiered shipping rates: $7/lb for items over 50 lbs, $10/lb for items 50 lbs or under\n",
    "   - Shipping costs are properly calculated based on unit weights\n",
    "   - All prices include 9.25% sales tax\n",
    "\n",
    "3. Client Performance:\n",
    "   - Successfully identified and analyzed the top 5 clients by order frequency\n",
    "   - Created comprehensive client summaries including units, revenue, and profit\n",
    "   - Formatted large monetary values in millions for better readability\n",
    "\n",
    "The analysis confirms the accuracy of our calculations and provides a clear view of client performance and order profitability."
   ]
  }
 ],
 "metadata": {
  "kernelspec": {
   "display_name": "Python 3",
   "language": "python",
   "name": "python3"
  },
  "language_info": {
   "codemirror_mode": {
    "name": "ipython",
    "version": 3
   },
   "file_extension": ".py",
   "mimetype": "text/x-python",
   "name": "python",
   "nbconvert_exporter": "python",
   "pygments_lexer": "ipython3",
   "version": "3.8.5"
  }
 },
 "nbformat": 4,
 "nbformat_minor": 4
}
